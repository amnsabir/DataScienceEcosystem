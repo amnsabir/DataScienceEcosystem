{
 "cells": [
  {
   "cell_type": "markdown",
   "id": "1e3de556-f294-4204-b9a2-c7da2a6d5e78",
   "metadata": {
    "tags": []
   },
   "source": [
    "# H1: Data Science Tools and Ecosystem"
   ]
  },
  {
   "cell_type": "markdown",
   "id": "a3fd0165-66bc-4d13-ba05-8ec2d5b2cf99",
   "metadata": {},
   "source": [
    "# H1 : Data Science Tools and Ecosystem"
   ]
  },
  {
   "cell_type": "markdown",
   "id": "451c3aa1-484e-4aaf-b678-ed1258ad9acb",
   "metadata": {},
   "source": [
    "\"In this notebook, Data Science Tools and Ecosystem are summarized.\""
   ]
  },
  {
   "cell_type": "markdown",
   "id": "94a92a90-ae96-489a-998d-491a3982c4ec",
   "metadata": {},
   "source": [
    "** Objectives: ** \n",
    "* PYTHON\n",
    "* R\n",
    "* JAVA"
   ]
  },
  {
   "cell_type": "markdown",
   "id": "66d50eb1-8c56-4edd-8673-5202fa16e6aa",
   "metadata": {},
   "source": [
    "\"Some of the popular languages that Data Scientists use are:\"\n",
    "1. PYTHON\n",
    "2. R\n",
    "3. JAVA"
   ]
  },
  {
   "cell_type": "markdown",
   "id": "fd3a87ac-8c5d-4264-acaf-f903ea963bef",
   "metadata": {},
   "source": [
    "\"Some of the commonly used libraries used by Data Scientists include:\"\n",
    "1. TensorFlow\n",
    "2. NumPy\n",
    "3. Pandas"
   ]
  },
  {
   "cell_type": "markdown",
   "id": "3f7cbe4b-06ed-4213-9ff9-c644f67a7bf9",
   "metadata": {},
   "source": [
    "| Data Science Tools |\n",
    "| ----------------- |\n",
    "| RStudio |\n",
    "| Apache Spark |\n",
    "| TensorFlow |\n"
   ]
  },
  {
   "cell_type": "markdown",
   "id": "ba69e055-2981-4228-9fa3-0993c493c935",
   "metadata": {},
   "source": [
    "### H3: Below are a few examples of evaluating arithmetic expressions in Python"
   ]
  },
  {
   "cell_type": "markdown",
   "id": "5ba5d718-5eca-450f-9b5f-4218cc589727",
   "metadata": {},
   "source": [
    "# This a simple arithmetic expression to mutiply then add integers\n",
    "(3*4)+5"
   ]
  },
  {
   "cell_type": "code",
   "execution_count": 1,
   "id": "93f644a3-8521-4ad2-b902-c93c9a1b1b11",
   "metadata": {
    "tags": []
   },
   "outputs": [
    {
     "data": {
      "text/plain": [
       "17"
      ]
     },
     "execution_count": 1,
     "metadata": {},
     "output_type": "execute_result"
    }
   ],
   "source": [
    "# This a simple arithmetic expression to mutiply then add integers\n",
    "(3*4)+5"
   ]
  },
  {
   "cell_type": "code",
   "execution_count": 2,
   "id": "add4d6ca-257a-4195-a363-3a1dd6a17a89",
   "metadata": {
    "tags": []
   },
   "outputs": [
    {
     "data": {
      "text/plain": [
       "3.3333333333333335"
      ]
     },
     "execution_count": 2,
     "metadata": {},
     "output_type": "execute_result"
    }
   ],
   "source": [
    "# This will convert 200 minutes to hours by diving by 60\n",
    "200/60"
   ]
  },
  {
   "cell_type": "code",
   "execution_count": null,
   "id": "3a34851d-a89c-4197-ad94-9ac6442069b6",
   "metadata": {},
   "outputs": [],
   "source": [
    "## H2: Author\n",
    "Amine Sabir"
   ]
  }
 ],
 "metadata": {
  "kernelspec": {
   "display_name": "Python",
   "language": "python",
   "name": "conda-env-python-py"
  },
  "language_info": {
   "codemirror_mode": {
    "name": "ipython",
    "version": 3
   },
   "file_extension": ".py",
   "mimetype": "text/x-python",
   "name": "python",
   "nbconvert_exporter": "python",
   "pygments_lexer": "ipython3",
   "version": "3.7.12"
  }
 },
 "nbformat": 4,
 "nbformat_minor": 5
}
